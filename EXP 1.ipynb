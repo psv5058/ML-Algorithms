{
 "cells": [
  {
   "cell_type": "markdown",
   "id": "257c30d5",
   "metadata": {},
   "source": [
    "# EXP 1: To Implement a Python Script to Import and Export Data using Python Pandas"
   ]
  },
  {
   "cell_type": "code",
   "execution_count": 1,
   "id": "519a1cb2",
   "metadata": {},
   "outputs": [
    {
     "name": "stdout",
     "output_type": "stream",
     "text": [
      "   EMPLOYEE_ID FIRST_NAME  LAST_NAME     EMAIL  PHONE_NUMBER  HIRE_DATE  \\\n",
      "0          198     Donald   OConnell  DOCONNEL  650.507.9833  21-JUN-07   \n",
      "1          199    Douglas      Grant    DGRANT  650.507.9844  13-JAN-08   \n",
      "2          200   Jennifer     Whalen   JWHALEN  515.123.4444  17-SEP-03   \n",
      "3          201    Michael  Hartstein  MHARTSTE  515.123.5555  17-FEB-04   \n",
      "4          202        Pat        Fay      PFAY  603.123.6666  17-AUG-05   \n",
      "5          203      Susan     Mavris   SMAVRIS  515.123.7777  07-JUN-02   \n",
      "\n",
      "     JOB_ID  SALARY COMMISSION_PCT MANAGER_ID  DEPARTMENT_ID  \n",
      "0  SH_CLERK    2600             -         124             50  \n",
      "1  SH_CLERK    2600             -         124             50  \n",
      "2   AD_ASST    4400             -         101             10  \n",
      "3    MK_MAN   13000             -         100             20  \n",
      "4    MK_REP    6000             -         201             20  \n",
      "5    HR_REP    6500             -         101             40  \n",
      "    EMPLOYEE_ID FIRST_NAME   LAST_NAME     EMAIL  PHONE_NUMBER  HIRE_DATE  \\\n",
      "44          135         Ki         Gee      KGEE  650.127.1734  12-DEC-07   \n",
      "45          136      Hazel  Philtanker  HPHILTAN  650.127.1634  06-FEB-08   \n",
      "46          137     Renske      Ladwig   RLADWIG  650.121.1234  14-JUL-03   \n",
      "47          138    Stephen      Stiles   SSTILES  650.121.2034  26-OCT-05   \n",
      "48          139       John         Seo      JSEO  650.121.2019  12-FEB-06   \n",
      "49          140     Joshua       Patel    JPATEL  650.121.1834  06-APR-06   \n",
      "\n",
      "      JOB_ID  SALARY COMMISSION_PCT MANAGER_ID  DEPARTMENT_ID  \n",
      "44  ST_CLERK    2400             -         122             50  \n",
      "45  ST_CLERK    2200             -         122             50  \n",
      "46  ST_CLERK    3600             -         123             50  \n",
      "47  ST_CLERK    3200             -         123             50  \n",
      "48  ST_CLERK    2700             -         123             50  \n",
      "49  ST_CLERK    2500             -         123             50  \n"
     ]
    }
   ],
   "source": [
    "import pandas as pd \n",
    "data=pd.read_csv(\"employee.csv\") \n",
    "print(data.head(6))\n",
    "print(data.tail(6))"
   ]
  },
  {
   "cell_type": "code",
   "execution_count": 2,
   "id": "edc0d0a8",
   "metadata": {},
   "outputs": [
    {
     "name": "stdout",
     "output_type": "stream",
     "text": [
      "              A  B  C\n",
      "Vanilla       0  1  1\n",
      "Butterscotch  1  0  1\n",
      "Chocolate     1  1  1\n"
     ]
    }
   ],
   "source": [
    "import pandas as pd \n",
    "import numpy as np \n",
    "IcecreamType={\"A\":[0,1,1], \"B\":[1,0,1], \"C\":[1,1,1]} \n",
    "df=pd.DataFrame(IcecreamType,index=(\"Vanilla\",\"Butterscotch\",\"Chocolate\")) \n",
    "print(df)"
   ]
  },
  {
   "cell_type": "code",
   "execution_count": 6,
   "id": "7e08768e",
   "metadata": {},
   "outputs": [],
   "source": [
    "df.to_csv(\"C:\\\\Users\\honey\\Desktop\\Class time\\ML\\LAB OPs\\icecream.csv\")"
   ]
  }
 ],
 "metadata": {
  "kernelspec": {
   "display_name": "Python 3 (ipykernel)",
   "language": "python",
   "name": "python3"
  },
  "language_info": {
   "codemirror_mode": {
    "name": "ipython",
    "version": 3
   },
   "file_extension": ".py",
   "mimetype": "text/x-python",
   "name": "python",
   "nbconvert_exporter": "python",
   "pygments_lexer": "ipython3",
   "version": "3.9.7"
  }
 },
 "nbformat": 4,
 "nbformat_minor": 5
}
